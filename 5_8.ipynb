{
  "nbformat": 4,
  "nbformat_minor": 0,
  "metadata": {
    "colab": {
      "provenance": [],
      "authorship_tag": "ABX9TyMjYdLIv/Kp8QxGxN6sfROJ",
      "include_colab_link": true
    },
    "kernelspec": {
      "name": "python3",
      "display_name": "Python 3"
    },
    "language_info": {
      "name": "python"
    }
  },
  "cells": [
    {
      "cell_type": "markdown",
      "metadata": {
        "id": "view-in-github",
        "colab_type": "text"
      },
      "source": [
        "<a href=\"https://colab.research.google.com/github/lys1105/colab2/blob/main/5_8.ipynb\" target=\"_parent\"><img src=\"https://colab.research.google.com/assets/colab-badge.svg\" alt=\"Open In Colab\"/></a>"
      ]
    },
    {
      "cell_type": "code",
      "execution_count": 8,
      "metadata": {
        "colab": {
          "base_uri": "https://localhost:8080/",
          "height": 645
        },
        "id": "2RDJqmY79Yra",
        "outputId": "b7f57566-3cf8-4f58-a415-9c8e6f0afccd"
      },
      "outputs": [
        {
          "output_type": "stream",
          "name": "stdout",
          "text": [
            "DOG\n",
            "CAT\n",
            "BIRD\n",
            "TIGER\n",
            "ELEPHANT\n",
            "DOG\n",
            "dog\n",
            "CAT\n",
            "cat\n",
            "BIRD\n",
            "bird\n",
            "TIGER\n",
            "tiger\n",
            "ELEPHANT\n",
            "elephant\n",
            "DOG\n",
            "dog\n",
            "CAT\n",
            "cat\n",
            "BIRD\n",
            "bird\n",
            "TIGER\n",
            "tiger\n",
            "ELEPHANT\n",
            "elephant\n"
          ]
        },
        {
          "output_type": "error",
          "ename": "NameError",
          "evalue": "name 'dog' is not defined",
          "traceback": [
            "\u001b[0;31m---------------------------------------------------------------------------\u001b[0m",
            "\u001b[0;31mNameError\u001b[0m                                 Traceback (most recent call last)",
            "\u001b[0;32m<ipython-input-8-1accbcfe6e4e>\u001b[0m in \u001b[0;36m<cell line: 0>\u001b[0;34m()\u001b[0m\n\u001b[1;32m     27\u001b[0m   \u001b[0mprint\u001b[0m\u001b[0;34m(\u001b[0m\u001b[0mlowertext\u001b[0m\u001b[0;34m(\u001b[0m\u001b[0mx\u001b[0m\u001b[0;34m)\u001b[0m\u001b[0;34m)\u001b[0m\u001b[0;34m\u001b[0m\u001b[0;34m\u001b[0m\u001b[0m\n\u001b[1;32m     28\u001b[0m \u001b[0;31m# fill in the ????? so it can print the answer below:DOG\u001b[0m\u001b[0;34m\u001b[0m\u001b[0;34m\u001b[0m\u001b[0m\n\u001b[0;32m---> 29\u001b[0;31m \u001b[0mdog\u001b[0m\u001b[0;34m\u001b[0m\u001b[0;34m\u001b[0m\u001b[0m\n\u001b[0m\u001b[1;32m     30\u001b[0m \u001b[0mCAT\u001b[0m\u001b[0;34m\u001b[0m\u001b[0;34m\u001b[0m\u001b[0m\n\u001b[1;32m     31\u001b[0m \u001b[0mcat\u001b[0m\u001b[0;34m\u001b[0m\u001b[0;34m\u001b[0m\u001b[0m\n",
            "\u001b[0;31mNameError\u001b[0m: name 'dog' is not defined"
          ]
        }
      ],
      "source": [
        "zoo_animals = [\"Dog\", \"Cat\", \"Bird\",\"Tiger\", \"Elephant\"]\n",
        "zoo_animals = [\"Dog\", \"Cat\", \"Bird\",\"Tiger\", \"Elephant\"]\n",
        "\n",
        "def uppertext(a):\n",
        "  return a.upper()\n",
        "\n",
        "def lowertext(a):\n",
        "  return a.lower()\n",
        "\n",
        "for x in zoo_animals:\n",
        "  print(uppertext(x))\n",
        "zoo_animals = [\"Dog\", \"Cat\", \"Bird\",\"Tiger\", \"Elephant\"]\n",
        "\n",
        "def uppertext(a):\n",
        "  return a.upper()\n",
        "\n",
        "def lowertext(a):\n",
        "  return a.lower()\n",
        "\n",
        "for x in zoo_animals:\n",
        "  print(uppertext(x))\n",
        "  print(lowertext(x))\n",
        "# fill in the ????? so it can print the answer below:DOG\n",
        "\n",
        "for x in zoo_animals:\n",
        "  print(uppertext(x))\n",
        "  print(lowertext(x))\n",
        "# fill in the ????? so it can print the answer below:DOG\n",
        "dog\n",
        "CAT\n",
        "cat\n",
        "BIRD\n",
        "bird\n",
        "TIGER\n",
        "tiger\n",
        "ELEPHANT\n",
        "elephant\n",
        "zoo_animals = [\"Dog\", \"Cat\", \"Bird\",\"Tiger\", \"Elephant\"]\n",
        "\n",
        "def uppertext(a):\n",
        "  return a.upper()\n",
        "\n",
        "def lowertext(a):\n",
        "  return a.lower()\n",
        "\n",
        "\n",
        "\n",
        "def lowertext(a):\n",
        "  return a.lower()\n",
        "\n",
        "for x in zoo_animals:\n",
        "  print(uppertext(x))\n",
        "  print(lowertext(x))\n",
        "# fill in the ????? so it can print the answer below:DOG\n",
        "  print(uppertext(x))\n",
        "  print(lowertext(x))\n",
        "# fill in the ????? so it can print the answer below:DOG"
      ]
    },
    {
      "cell_type": "code",
      "source": [
        "from IPython import get_ipython\n",
        "from IPython.display import display\n",
        "# %%\n",
        "zoo_animals = [\"Dog\", \"Cat\", \"Bird\",\"Tiger\", \"Elephant\"]\n",
        "\n",
        "\n",
        "def uppertext(a):\n",
        "  return a.upper()\n",
        "\n",
        "def lowertext(a):\n",
        "  return a.lower()\n",
        "\n",
        "for x in zoo_animals:\n",
        "  print(uppertext(x))\n",
        "zoo_animals = [\"Dog\", \"Cat\", \"Bird\",\"Tiger\", \"Elephant\"]\n",
        "\n",
        "def uppertext(a):\n",
        "  return a.upper()\n",
        "\n",
        "def lowertext(a):\n",
        "  return a.lower()\n",
        "\n",
        "for x in zoo_animals:\n",
        "  print(uppertext(x))\n",
        "  print(lowertext(x))\n",
        "# fill in the ????? so it can print the answer below:DOG\n",
        "\n",
        "\n",
        "# fill in the ????? so it can print the answer below:DOG"
      ],
      "metadata": {
        "colab": {
          "base_uri": "https://localhost:8080/"
        },
        "id": "CN6j_hd--VJT",
        "outputId": "4c89d822-bca8-45f2-b262-40fbdfe5cbfc"
      },
      "execution_count": 11,
      "outputs": [
        {
          "output_type": "stream",
          "name": "stdout",
          "text": [
            "DOG\n",
            "CAT\n",
            "BIRD\n",
            "TIGER\n",
            "ELEPHANT\n",
            "DOG\n",
            "dog\n",
            "CAT\n",
            "cat\n",
            "BIRD\n",
            "bird\n",
            "TIGER\n",
            "tiger\n",
            "ELEPHANT\n",
            "elephant\n"
          ]
        }
      ]
    }
  ]
}