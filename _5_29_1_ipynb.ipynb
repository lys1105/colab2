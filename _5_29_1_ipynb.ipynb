{
  "nbformat": 4,
  "nbformat_minor": 0,
  "metadata": {
    "colab": {
      "provenance": [],
      "include_colab_link": true
    },
    "kernelspec": {
      "name": "python3",
      "display_name": "Python 3"
    }
  },
  "cells": [
    {
      "cell_type": "markdown",
      "metadata": {
        "id": "view-in-github",
        "colab_type": "text"
      },
      "source": [
        "<a href=\"https://colab.research.google.com/github/lys1105/colab2/blob/main/_5_29_1_ipynb.ipynb\" target=\"_parent\"><img src=\"https://colab.research.google.com/assets/colab-badge.svg\" alt=\"Open In Colab\"/></a>"
      ]
    },
    {
      "cell_type": "markdown",
      "source": [
        "歌詞小數據：https://www.biosmonthly.com/article/10673"
      ],
      "metadata": {
        "id": "HRfndHBscCTu"
      }
    },
    {
      "cell_type": "code",
      "metadata": {
        "id": "YgiZPhT5xKHJ",
        "colab": {
          "base_uri": "https://localhost:8080/"
        },
        "outputId": "418b01d8-5e7c-4774-f884-a9572363242b"
      },
      "source": [
        "from google.colab import drive\n",
        "drive.mount('/content/drive')"
      ],
      "execution_count": null,
      "outputs": [
        {
          "output_type": "stream",
          "name": "stdout",
          "text": [
            "Mounted at /content/drive\n"
          ]
        }
      ]
    },
    {
      "cell_type": "markdown",
      "source": [
        "只能有txt\n",
        "\n",
        "UTF8\n"
      ],
      "metadata": {
        "id": "L36l2GC4E42P"
      }
    },
    {
      "cell_type": "code",
      "source": [
        "ls '/content/drive/MyDrive/Colab Notebooks'"
      ],
      "metadata": {
        "colab": {
          "base_uri": "https://localhost:8080/"
        },
        "id": "4LVeAWE0nTOh",
        "outputId": "10955d2d-8476-4c21-95e6-6f3cdda47987"
      },
      "execution_count": null,
      "outputs": [
        {
          "output_type": "stream",
          "name": "stdout",
          "text": [
            "'Evenings with idries Shah.txt'   Kara_Kush.txt  'The Wat of the Sufi.txt'\n"
          ]
        }
      ]
    },
    {
      "cell_type": "code",
      "source": [
        "import nltk\n",
        "from nltk.corpus import PlaintextCorpusReader\n",
        "\n",
        "#PlaintextCorpusReader\n",
        "#讀取純文字檔案，並把它們當作語料庫（corpus）來分析\n",
        "corpus_root = '/content/drive/MyDrive/Colab Notebooks' # 請改成自己的路徑 File Path\n",
        "wordlists = PlaintextCorpusReader(corpus_root, '.*') # .* => find all files, .txt => only find txt files\n",
        "\n",
        "books = wordlists.fileids() # 回傳檔名\n",
        "print(books)"
      ],
      "metadata": {
        "colab": {
          "base_uri": "https://localhost:8080/"
        },
        "id": "nK56JcebwEUj",
        "outputId": "1a292b23-ea99-4c33-a56e-30522f084bc1"
      },
      "execution_count": null,
      "outputs": [
        {
          "output_type": "stream",
          "name": "stdout",
          "text": [
            "['Evenings with idries Shah.txt', 'Kara_Kush.txt', 'The Wat of the Sufi.txt']\n"
          ]
        }
      ]
    },
    {
      "cell_type": "code",
      "source": [
        "import nltk\n",
        "nltk.download('popular')\n",
        "nltk.download('all-corpora')\n",
        "nltk.download('punkt')"
      ],
      "metadata": {
        "id": "dCyJZplXAqSk",
        "colab": {
          "base_uri": "https://localhost:8080/"
        },
        "outputId": "d8a4a7f2-edaa-4544-f20d-1f62d551588f"
      },
      "execution_count": null,
      "outputs": [
        {
          "output_type": "stream",
          "name": "stderr",
          "text": [
            "[nltk_data] Downloading collection 'popular'\n",
            "[nltk_data]    | \n",
            "[nltk_data]    | Downloading package cmudict to /root/nltk_data...\n",
            "[nltk_data]    |   Package cmudict is already up-to-date!\n",
            "[nltk_data]    | Downloading package gazetteers to /root/nltk_data...\n",
            "[nltk_data]    |   Package gazetteers is already up-to-date!\n",
            "[nltk_data]    | Downloading package genesis to /root/nltk_data...\n",
            "[nltk_data]    |   Package genesis is already up-to-date!\n",
            "[nltk_data]    | Downloading package gutenberg to /root/nltk_data...\n",
            "[nltk_data]    |   Package gutenberg is already up-to-date!\n",
            "[nltk_data]    | Downloading package inaugural to /root/nltk_data...\n",
            "[nltk_data]    |   Package inaugural is already up-to-date!\n",
            "[nltk_data]    | Downloading package movie_reviews to\n",
            "[nltk_data]    |     /root/nltk_data...\n",
            "[nltk_data]    |   Package movie_reviews is already up-to-date!\n",
            "[nltk_data]    | Downloading package names to /root/nltk_data...\n",
            "[nltk_data]    |   Package names is already up-to-date!\n",
            "[nltk_data]    | Downloading package shakespeare to /root/nltk_data...\n",
            "[nltk_data]    |   Package shakespeare is already up-to-date!\n",
            "[nltk_data]    | Downloading package stopwords to /root/nltk_data...\n",
            "[nltk_data]    |   Package stopwords is already up-to-date!\n",
            "[nltk_data]    | Downloading package treebank to /root/nltk_data...\n",
            "[nltk_data]    |   Package treebank is already up-to-date!\n",
            "[nltk_data]    | Downloading package twitter_samples to\n",
            "[nltk_data]    |     /root/nltk_data...\n",
            "[nltk_data]    |   Package twitter_samples is already up-to-date!\n",
            "[nltk_data]    | Downloading package omw to /root/nltk_data...\n",
            "[nltk_data]    |   Package omw is already up-to-date!\n",
            "[nltk_data]    | Downloading package omw-1.4 to /root/nltk_data...\n",
            "[nltk_data]    |   Package omw-1.4 is already up-to-date!\n",
            "[nltk_data]    | Downloading package wordnet to /root/nltk_data...\n",
            "[nltk_data]    |   Package wordnet is already up-to-date!\n",
            "[nltk_data]    | Downloading package wordnet2021 to /root/nltk_data...\n",
            "[nltk_data]    |   Package wordnet2021 is already up-to-date!\n",
            "[nltk_data]    | Downloading package wordnet31 to /root/nltk_data...\n",
            "[nltk_data]    |   Package wordnet31 is already up-to-date!\n",
            "[nltk_data]    | Downloading package wordnet_ic to /root/nltk_data...\n",
            "[nltk_data]    |   Package wordnet_ic is already up-to-date!\n",
            "[nltk_data]    | Downloading package words to /root/nltk_data...\n",
            "[nltk_data]    |   Package words is already up-to-date!\n",
            "[nltk_data]    | Downloading package maxent_ne_chunker to\n",
            "[nltk_data]    |     /root/nltk_data...\n",
            "[nltk_data]    |   Package maxent_ne_chunker is already up-to-date!\n",
            "[nltk_data]    | Downloading package punkt to /root/nltk_data...\n",
            "[nltk_data]    |   Package punkt is already up-to-date!\n",
            "[nltk_data]    | Downloading package snowball_data to\n",
            "[nltk_data]    |     /root/nltk_data...\n",
            "[nltk_data]    |   Package snowball_data is already up-to-date!\n",
            "[nltk_data]    | Downloading package averaged_perceptron_tagger to\n",
            "[nltk_data]    |     /root/nltk_data...\n",
            "[nltk_data]    |   Package averaged_perceptron_tagger is already up-\n",
            "[nltk_data]    |       to-date!\n",
            "[nltk_data]    | \n",
            "[nltk_data]  Done downloading collection popular\n",
            "[nltk_data] Downloading collection 'all-corpora'\n",
            "[nltk_data]    | \n",
            "[nltk_data]    | Downloading package abc to /root/nltk_data...\n",
            "[nltk_data]    |   Package abc is already up-to-date!\n",
            "[nltk_data]    | Downloading package alpino to /root/nltk_data...\n",
            "[nltk_data]    |   Package alpino is already up-to-date!\n",
            "[nltk_data]    | Downloading package bcp47 to /root/nltk_data...\n",
            "[nltk_data]    |   Package bcp47 is already up-to-date!\n",
            "[nltk_data]    | Downloading package biocreative_ppi to\n",
            "[nltk_data]    |     /root/nltk_data...\n",
            "[nltk_data]    |   Package biocreative_ppi is already up-to-date!\n",
            "[nltk_data]    | Downloading package brown to /root/nltk_data...\n",
            "[nltk_data]    |   Package brown is already up-to-date!\n",
            "[nltk_data]    | Downloading package brown_tei to /root/nltk_data...\n",
            "[nltk_data]    |   Package brown_tei is already up-to-date!\n",
            "[nltk_data]    | Downloading package cess_cat to /root/nltk_data...\n",
            "[nltk_data]    |   Package cess_cat is already up-to-date!\n",
            "[nltk_data]    | Downloading package cess_esp to /root/nltk_data...\n",
            "[nltk_data]    |   Package cess_esp is already up-to-date!\n",
            "[nltk_data]    | Downloading package chat80 to /root/nltk_data...\n",
            "[nltk_data]    |   Package chat80 is already up-to-date!\n",
            "[nltk_data]    | Downloading package city_database to\n",
            "[nltk_data]    |     /root/nltk_data...\n",
            "[nltk_data]    |   Package city_database is already up-to-date!\n",
            "[nltk_data]    | Downloading package cmudict to /root/nltk_data...\n",
            "[nltk_data]    |   Package cmudict is already up-to-date!\n",
            "[nltk_data]    | Downloading package comparative_sentences to\n",
            "[nltk_data]    |     /root/nltk_data...\n",
            "[nltk_data]    |   Package comparative_sentences is already up-to-\n",
            "[nltk_data]    |       date!\n",
            "[nltk_data]    | Downloading package comtrans to /root/nltk_data...\n",
            "[nltk_data]    |   Package comtrans is already up-to-date!\n",
            "[nltk_data]    | Downloading package conll2000 to /root/nltk_data...\n",
            "[nltk_data]    |   Package conll2000 is already up-to-date!\n",
            "[nltk_data]    | Downloading package conll2002 to /root/nltk_data...\n",
            "[nltk_data]    |   Package conll2002 is already up-to-date!\n",
            "[nltk_data]    | Downloading package conll2007 to /root/nltk_data...\n",
            "[nltk_data]    |   Package conll2007 is already up-to-date!\n",
            "[nltk_data]    | Downloading package crubadan to /root/nltk_data...\n",
            "[nltk_data]    |   Package crubadan is already up-to-date!\n",
            "[nltk_data]    | Downloading package dependency_treebank to\n",
            "[nltk_data]    |     /root/nltk_data...\n",
            "[nltk_data]    |   Package dependency_treebank is already up-to-date!\n",
            "[nltk_data]    | Downloading package dolch to /root/nltk_data...\n",
            "[nltk_data]    |   Package dolch is already up-to-date!\n",
            "[nltk_data]    | Downloading package english_wordnet to\n",
            "[nltk_data]    |     /root/nltk_data...\n",
            "[nltk_data]    |   Package english_wordnet is already up-to-date!\n",
            "[nltk_data]    | Downloading package europarl_raw to\n",
            "[nltk_data]    |     /root/nltk_data...\n",
            "[nltk_data]    |   Package europarl_raw is already up-to-date!\n",
            "[nltk_data]    | Downloading package extended_omw to\n",
            "[nltk_data]    |     /root/nltk_data...\n",
            "[nltk_data]    |   Package extended_omw is already up-to-date!\n",
            "[nltk_data]    | Downloading package floresta to /root/nltk_data...\n",
            "[nltk_data]    |   Package floresta is already up-to-date!\n",
            "[nltk_data]    | Downloading package framenet_v15 to\n",
            "[nltk_data]    |     /root/nltk_data...\n",
            "[nltk_data]    |   Package framenet_v15 is already up-to-date!\n",
            "[nltk_data]    | Downloading package framenet_v17 to\n",
            "[nltk_data]    |     /root/nltk_data...\n",
            "[nltk_data]    |   Package framenet_v17 is already up-to-date!\n",
            "[nltk_data]    | Downloading package gazetteers to /root/nltk_data...\n",
            "[nltk_data]    |   Package gazetteers is already up-to-date!\n",
            "[nltk_data]    | Downloading package genesis to /root/nltk_data...\n",
            "[nltk_data]    |   Package genesis is already up-to-date!\n",
            "[nltk_data]    | Downloading package gutenberg to /root/nltk_data...\n",
            "[nltk_data]    |   Package gutenberg is already up-to-date!\n",
            "[nltk_data]    | Downloading package ieer to /root/nltk_data...\n",
            "[nltk_data]    |   Package ieer is already up-to-date!\n",
            "[nltk_data]    | Downloading package inaugural to /root/nltk_data...\n",
            "[nltk_data]    |   Package inaugural is already up-to-date!\n",
            "[nltk_data]    | Downloading package indian to /root/nltk_data...\n",
            "[nltk_data]    |   Package indian is already up-to-date!\n",
            "[nltk_data]    | Downloading package jeita to /root/nltk_data...\n",
            "[nltk_data]    |   Package jeita is already up-to-date!\n",
            "[nltk_data]    | Downloading package kimmo to /root/nltk_data...\n",
            "[nltk_data]    |   Package kimmo is already up-to-date!\n",
            "[nltk_data]    | Downloading package knbc to /root/nltk_data...\n",
            "[nltk_data]    |   Package knbc is already up-to-date!\n",
            "[nltk_data]    | Downloading package lin_thesaurus to\n",
            "[nltk_data]    |     /root/nltk_data...\n",
            "[nltk_data]    |   Package lin_thesaurus is already up-to-date!\n",
            "[nltk_data]    | Downloading package mac_morpho to /root/nltk_data...\n",
            "[nltk_data]    |   Package mac_morpho is already up-to-date!\n",
            "[nltk_data]    | Downloading package machado to /root/nltk_data...\n",
            "[nltk_data]    |   Package machado is already up-to-date!\n",
            "[nltk_data]    | Downloading package masc_tagged to /root/nltk_data...\n",
            "[nltk_data]    |   Package masc_tagged is already up-to-date!\n",
            "[nltk_data]    | Downloading package movie_reviews to\n",
            "[nltk_data]    |     /root/nltk_data...\n",
            "[nltk_data]    |   Package movie_reviews is already up-to-date!\n",
            "[nltk_data]    | Downloading package mte_teip5 to /root/nltk_data...\n",
            "[nltk_data]    |   Package mte_teip5 is already up-to-date!\n",
            "[nltk_data]    | Downloading package names to /root/nltk_data...\n",
            "[nltk_data]    |   Package names is already up-to-date!\n",
            "[nltk_data]    | Downloading package nombank.1.0 to /root/nltk_data...\n",
            "[nltk_data]    |   Package nombank.1.0 is already up-to-date!\n",
            "[nltk_data]    | Downloading package nonbreaking_prefixes to\n",
            "[nltk_data]    |     /root/nltk_data...\n",
            "[nltk_data]    |   Package nonbreaking_prefixes is already up-to-date!\n",
            "[nltk_data]    | Downloading package nps_chat to /root/nltk_data...\n",
            "[nltk_data]    |   Package nps_chat is already up-to-date!\n",
            "[nltk_data]    | Downloading package omw to /root/nltk_data...\n",
            "[nltk_data]    |   Package omw is already up-to-date!\n",
            "[nltk_data]    | Downloading package omw-1.4 to /root/nltk_data...\n",
            "[nltk_data]    |   Package omw-1.4 is already up-to-date!\n",
            "[nltk_data]    | Downloading package opinion_lexicon to\n",
            "[nltk_data]    |     /root/nltk_data...\n",
            "[nltk_data]    |   Package opinion_lexicon is already up-to-date!\n",
            "[nltk_data]    | Downloading package panlex_swadesh to\n",
            "[nltk_data]    |     /root/nltk_data...\n",
            "[nltk_data]    |   Package panlex_swadesh is already up-to-date!\n",
            "[nltk_data]    | Downloading package paradigms to /root/nltk_data...\n",
            "[nltk_data]    |   Package paradigms is already up-to-date!\n",
            "[nltk_data]    | Downloading package pe08 to /root/nltk_data...\n",
            "[nltk_data]    |   Package pe08 is already up-to-date!\n",
            "[nltk_data]    | Downloading package pil to /root/nltk_data...\n",
            "[nltk_data]    |   Package pil is already up-to-date!\n",
            "[nltk_data]    | Downloading package pl196x to /root/nltk_data...\n",
            "[nltk_data]    |   Package pl196x is already up-to-date!\n",
            "[nltk_data]    | Downloading package ppattach to /root/nltk_data...\n",
            "[nltk_data]    |   Package ppattach is already up-to-date!\n",
            "[nltk_data]    | Downloading package problem_reports to\n",
            "[nltk_data]    |     /root/nltk_data...\n",
            "[nltk_data]    |   Package problem_reports is already up-to-date!\n",
            "[nltk_data]    | Downloading package product_reviews_1 to\n",
            "[nltk_data]    |     /root/nltk_data...\n",
            "[nltk_data]    |   Package product_reviews_1 is already up-to-date!\n",
            "[nltk_data]    | Downloading package product_reviews_2 to\n",
            "[nltk_data]    |     /root/nltk_data...\n",
            "[nltk_data]    |   Package product_reviews_2 is already up-to-date!\n",
            "[nltk_data]    | Downloading package propbank to /root/nltk_data...\n",
            "[nltk_data]    |   Package propbank is already up-to-date!\n",
            "[nltk_data]    | Downloading package pros_cons to /root/nltk_data...\n",
            "[nltk_data]    |   Package pros_cons is already up-to-date!\n",
            "[nltk_data]    | Downloading package ptb to /root/nltk_data...\n",
            "[nltk_data]    |   Package ptb is already up-to-date!\n",
            "[nltk_data]    | Downloading package qc to /root/nltk_data...\n",
            "[nltk_data]    |   Package qc is already up-to-date!\n",
            "[nltk_data]    | Downloading package reuters to /root/nltk_data...\n",
            "[nltk_data]    |   Package reuters is already up-to-date!\n",
            "[nltk_data]    | Downloading package rte to /root/nltk_data...\n",
            "[nltk_data]    |   Package rte is already up-to-date!\n",
            "[nltk_data]    | Downloading package semcor to /root/nltk_data...\n",
            "[nltk_data]    |   Package semcor is already up-to-date!\n",
            "[nltk_data]    | Downloading package senseval to /root/nltk_data...\n",
            "[nltk_data]    |   Package senseval is already up-to-date!\n",
            "[nltk_data]    | Downloading package sentence_polarity to\n",
            "[nltk_data]    |     /root/nltk_data...\n",
            "[nltk_data]    |   Package sentence_polarity is already up-to-date!\n",
            "[nltk_data]    | Downloading package sentiwordnet to\n",
            "[nltk_data]    |     /root/nltk_data...\n",
            "[nltk_data]    |   Package sentiwordnet is already up-to-date!\n",
            "[nltk_data]    | Downloading package shakespeare to /root/nltk_data...\n",
            "[nltk_data]    |   Package shakespeare is already up-to-date!\n",
            "[nltk_data]    | Downloading package sinica_treebank to\n",
            "[nltk_data]    |     /root/nltk_data...\n",
            "[nltk_data]    |   Package sinica_treebank is already up-to-date!\n",
            "[nltk_data]    | Downloading package smultron to /root/nltk_data...\n",
            "[nltk_data]    |   Package smultron is already up-to-date!\n",
            "[nltk_data]    | Downloading package state_union to /root/nltk_data...\n",
            "[nltk_data]    |   Package state_union is already up-to-date!\n",
            "[nltk_data]    | Downloading package stopwords to /root/nltk_data...\n",
            "[nltk_data]    |   Package stopwords is already up-to-date!\n",
            "[nltk_data]    | Downloading package subjectivity to\n",
            "[nltk_data]    |     /root/nltk_data...\n",
            "[nltk_data]    |   Package subjectivity is already up-to-date!\n",
            "[nltk_data]    | Downloading package swadesh to /root/nltk_data...\n",
            "[nltk_data]    |   Package swadesh is already up-to-date!\n",
            "[nltk_data]    | Downloading package switchboard to /root/nltk_data...\n",
            "[nltk_data]    |   Package switchboard is already up-to-date!\n",
            "[nltk_data]    | Downloading package timit to /root/nltk_data...\n",
            "[nltk_data]    |   Package timit is already up-to-date!\n",
            "[nltk_data]    | Downloading package toolbox to /root/nltk_data...\n",
            "[nltk_data]    |   Package toolbox is already up-to-date!\n",
            "[nltk_data]    | Downloading package treebank to /root/nltk_data...\n",
            "[nltk_data]    |   Package treebank is already up-to-date!\n",
            "[nltk_data]    | Downloading package twitter_samples to\n",
            "[nltk_data]    |     /root/nltk_data...\n",
            "[nltk_data]    |   Package twitter_samples is already up-to-date!\n",
            "[nltk_data]    | Downloading package udhr to /root/nltk_data...\n",
            "[nltk_data]    |   Package udhr is already up-to-date!\n",
            "[nltk_data]    | Downloading package udhr2 to /root/nltk_data...\n",
            "[nltk_data]    |   Package udhr2 is already up-to-date!\n",
            "[nltk_data]    | Downloading package unicode_samples to\n",
            "[nltk_data]    |     /root/nltk_data...\n",
            "[nltk_data]    |   Package unicode_samples is already up-to-date!\n",
            "[nltk_data]    | Downloading package universal_treebanks_v20 to\n",
            "[nltk_data]    |     /root/nltk_data...\n",
            "[nltk_data]    |   Package universal_treebanks_v20 is already up-to-\n",
            "[nltk_data]    |       date!\n",
            "[nltk_data]    | Downloading package verbnet to /root/nltk_data...\n",
            "[nltk_data]    |   Package verbnet is already up-to-date!\n",
            "[nltk_data]    | Downloading package verbnet3 to /root/nltk_data...\n",
            "[nltk_data]    |   Package verbnet3 is already up-to-date!\n",
            "[nltk_data]    | Downloading package webtext to /root/nltk_data...\n",
            "[nltk_data]    |   Package webtext is already up-to-date!\n",
            "[nltk_data]    | Downloading package wordnet to /root/nltk_data...\n",
            "[nltk_data]    |   Package wordnet is already up-to-date!\n",
            "[nltk_data]    | Downloading package wordnet2021 to /root/nltk_data...\n",
            "[nltk_data]    |   Package wordnet2021 is already up-to-date!\n",
            "[nltk_data]    | Downloading package wordnet2022 to /root/nltk_data...\n",
            "[nltk_data]    |   Package wordnet2022 is already up-to-date!\n",
            "[nltk_data]    | Downloading package wordnet31 to /root/nltk_data...\n",
            "[nltk_data]    |   Package wordnet31 is already up-to-date!\n",
            "[nltk_data]    | Downloading package wordnet_ic to /root/nltk_data...\n",
            "[nltk_data]    |   Package wordnet_ic is already up-to-date!\n",
            "[nltk_data]    | Downloading package words to /root/nltk_data...\n",
            "[nltk_data]    |   Package words is already up-to-date!\n",
            "[nltk_data]    | Downloading package ycoe to /root/nltk_data...\n",
            "[nltk_data]    |   Package ycoe is already up-to-date!\n",
            "[nltk_data]    | \n",
            "[nltk_data]  Done downloading collection all-corpora\n",
            "[nltk_data] Downloading package punkt to /root/nltk_data...\n",
            "[nltk_data]   Package punkt is already up-to-date!\n"
          ]
        },
        {
          "output_type": "execute_result",
          "data": {
            "text/plain": [
              "True"
            ]
          },
          "metadata": {},
          "execution_count": 34
        }
      ]
    },
    {
      "cell_type": "code",
      "metadata": {
        "id": "YeKT7stMDD1r",
        "colab": {
          "base_uri": "https://localhost:8080/"
        },
        "outputId": "9ddf48cc-04d1-4373-f077-367e173fecfc"
      },
      "source": [
        "import nltk\n",
        "from nltk.corpus import PlaintextCorpusReader\n",
        "\n",
        "#PlaintextCorpusReader\n",
        "#讀取純文字檔案，並把它們當作語料庫（corpus）來分析\n",
        "corpus_root = '/content/drive/MyDrive/Colab Notebooks/TED' # 請改成自己的路徑 File Path\n",
        "wordlists = PlaintextCorpusReader(corpus_root, '.*') # .* => find all files, .txt => only find txt files\n",
        "\n",
        "books = wordlists.fileids() # 回傳檔名\n",
        "print(books)"
      ],
      "execution_count": null,
      "outputs": [
        {
          "output_type": "stream",
          "name": "stdout",
          "text": [
            "['2011pos Older people are happier.txt', '2012neg What doctors don_t know about the drugs they prescribe.txt', '2016neu Asking for help is a strength, not a weakness.txt']\n"
          ]
        }
      ]
    },
    {
      "cell_type": "code",
      "metadata": {
        "id": "e2GkhGfuHP0U",
        "colab": {
          "base_uri": "https://localhost:8080/"
        },
        "outputId": "9af7108e-df77-4f3c-e38d-3e58421d3515"
      },
      "source": [
        "import nltk\n",
        "testText = wordlists.words('2011pos Older people are happier.txt')\n",
        "print(testText)\n",
        "\n",
        "# 轉換成 NLTK 的 Text 類別物件，為了能夠進行分析\n",
        "single = nltk.text.Text(testText)\n",
        "print(single)\n",
        "\n"
      ],
      "execution_count": null,
      "outputs": [
        {
          "output_type": "stream",
          "name": "stdout",
          "text": [
            "['People', 'are', 'living', 'longer', 'and', ...]\n",
            "<Text: People are living longer and societies are getting...>\n"
          ]
        }
      ]
    },
    {
      "cell_type": "code",
      "metadata": {
        "id": "4d0v64bLMnpG",
        "colab": {
          "base_uri": "https://localhost:8080/"
        },
        "outputId": "292bb99d-5a74-400b-b727-a16738600f0d"
      },
      "source": [
        "# 文章中字詞出現次數\n",
        "single.count(\"happier\")"
      ],
      "execution_count": null,
      "outputs": [
        {
          "output_type": "execute_result",
          "data": {
            "text/plain": [
              "2"
            ]
          },
          "metadata": {},
          "execution_count": 7
        }
      ]
    },
    {
      "cell_type": "code",
      "metadata": {
        "id": "pJlApRb0Mzc7",
        "colab": {
          "base_uri": "https://localhost:8080/"
        },
        "outputId": "69b0fc2d-1faf-400d-e9cf-48f7ca48a0a6"
      },
      "source": [
        "# 搜尋字詞功能\n",
        "single.concordance(\"happy\", lines=100)  # 查找 'happy' 出現的上下文"
      ],
      "execution_count": null,
      "outputs": [
        {
          "output_type": "stream",
          "name": "stdout",
          "text": [
            "Displaying 3 of 3 matches:\n",
            " . That ' s right , older people are happy . They ' re happier than middle - ag\n",
            "ons -- On a one to seven scale , how happy are you right now ? How sad are you \n",
            "istic to say that older people are \" happy .\" In our study , they are more posi\n"
          ]
        }
      ]
    },
    {
      "cell_type": "code",
      "metadata": {
        "id": "VePILQC7NCB_",
        "colab": {
          "base_uri": "https://localhost:8080/"
        },
        "outputId": "ae940002-836a-4ee1-f2a0-b804b982bf77"
      },
      "source": [
        "# 關聯字\n",
        "single.similar(\"happy\")   # 可能會顯示sad，因為是情感對立詞\n",
        "# ex. She is a happy child. He is a sad boy."
      ],
      "execution_count": null,
      "outputs": [
        {
          "output_type": "stream",
          "name": "stdout",
          "text": [
            "sad frustrated\n"
          ]
        }
      ]
    },
    {
      "cell_type": "code",
      "source": [
        "#list\n",
        "context = [\"happy\",\"sad\", \"frustrated\"]\n",
        "\n",
        "single.common_contexts(context)"
      ],
      "metadata": {
        "colab": {
          "base_uri": "https://localhost:8080/"
        },
        "id": "OVncUbWKH7h4",
        "outputId": "99a611cb-0135-4c26-b0f3-4457a607c659"
      },
      "execution_count": null,
      "outputs": [
        {
          "output_type": "stream",
          "name": "stdout",
          "text": [
            "how_are\n"
          ]
        }
      ]
    },
    {
      "cell_type": "code",
      "source": [
        "# 練習：上傳自己文本\n",
        "testText2 = wordlists.words('2012neg What doctors don_t know about the drugs they prescribe.txt')\n",
        "single2 = nltk.text.Text(testText2)\n",
        "\n",
        "single2.count(\"drug\")\n",
        "\n",
        "single2.similar(\"drug\")\n",
        "\n",
        "single.concordance(\"happy\", lines=100)  # 查找 'happy' 出現的上下文\n",
        "\n",
        "context = [\"drug\"]\n",
        "single2.common_contexts(context)\n"
      ],
      "metadata": {
        "colab": {
          "base_uri": "https://localhost:8080/"
        },
        "id": "AcQXOZ_8zKDe",
        "outputId": "071eb58e-1147-4d0a-97b9-dfad9f4d6412"
      },
      "execution_count": null,
      "outputs": [
        {
          "output_type": "stream",
          "name": "stdout",
          "text": [
            "fluke problem researcher study hundred coin\n",
            "Displaying 3 of 3 matches:\n",
            " . That ' s right , older people are happy . They ' re happier than middle - ag\n",
            "ons -- On a one to seven scale , how happy are you right now ? How sad are you \n",
            "istic to say that older people are \" happy .\" In our study , they are more posi\n",
            "a_called a_that arrhythmic_a this_as this_i a_which the_company\n"
          ]
        }
      ]
    },
    {
      "cell_type": "code",
      "metadata": {
        "id": "hK9pd6WdJIpZ",
        "colab": {
          "base_uri": "https://localhost:8080/"
        },
        "outputId": "1dbcff71-94fb-4618-d246-0775bdbe3cdc"
      },
      "source": [
        "text = wordlists.words('2011pos Older people are happier.txt')\n",
        "print(text)\n",
        "print(len(text))"
      ],
      "execution_count": null,
      "outputs": [
        {
          "output_type": "stream",
          "name": "stdout",
          "text": [
            "['People', 'are', 'living', 'longer', 'and', ...]\n",
            "1772\n"
          ]
        }
      ]
    },
    {
      "cell_type": "code",
      "metadata": {
        "id": "1PShSCJi3noa",
        "colab": {
          "base_uri": "https://localhost:8080/"
        },
        "outputId": "1cdc0987-5af7-4799-9e4b-d84cec374ce4"
      },
      "source": [
        "from nltk.tokenize import word_tokenize\n",
        "dataset = wordlists.raw('2011pos Older people are happier.txt')\n",
        "print(word_tokenize(dataset))\n",
        "print(len(word_tokenize(dataset)))\n"
      ],
      "execution_count": null,
      "outputs": [
        {
          "output_type": "stream",
          "name": "stdout",
          "text": [
            "['People', 'are', 'living', 'longer', 'and', 'societies', 'are', 'getting', 'grayer', '.', 'You', 'hear', 'about', 'it', 'all', 'the', 'time', '.', 'You', 'read', 'about', 'it', 'in', 'your', 'newspapers', '.', 'You', 'hear', 'about', 'it', 'on', 'your', 'television', 'sets', '.', 'Sometimes', 'I', \"'m\", 'concerned', 'that', 'we', 'hear', 'about', 'it', 'so', 'much', 'that', 'we', \"'ve\", 'come', 'to', 'accept', 'longer', 'lives', 'with', 'a', 'kind', 'of', 'a', 'complacency', ',', 'even', 'ease', '.', 'But', 'make', 'no', 'mistake', ',', 'longer', 'lives', 'can', 'and', ',', 'I', 'believe', ',', 'will', 'improve', 'quality', 'of', 'life', 'at', 'all', 'ages', '.', 'Now', 'to', 'put', 'this', 'in', 'perspective', ',', 'let', 'me', 'just', 'zoom', 'out', 'for', 'a', 'minute', '.', 'More', 'years', 'were', 'added', 'to', 'average', 'life', 'expectancy', 'in', 'the', '20th', 'century', 'than', 'all', 'years', 'added', 'across', 'all', 'prior', 'millennia', 'of', 'human', 'evolution', 'combined', '.', 'In', 'the', 'blink', 'of', 'an', 'eye', ',', 'we', 'nearly', 'doubled', 'the', 'length', 'of', 'time', 'that', 'we', \"'re\", 'living', '.', 'So', 'if', 'you', 'ever', 'feel', 'like', 'you', 'do', \"n't\", 'have', 'this', 'aging', 'thing', 'quite', 'pegged', ',', 'do', \"n't\", 'kick', 'yourself', '.', 'It', \"'s\", 'brand', 'new', '.', 'And', 'because', 'fertility', 'rates', 'fell', 'across', 'that', 'very', 'same', 'period', 'that', 'life', 'expectancy', 'was', 'going', 'up', ',', 'that', 'pyramid', 'that', 'has', 'always', 'represented', 'the', 'distribution', 'of', 'age', 'in', 'the', 'population', ',', 'with', 'many', 'young', 'ones', 'at', 'the', 'bottom', 'winnowed', 'to', 'a', 'tiny', 'peak', 'of', 'older', 'people', 'who', 'make', 'it', 'and', 'survive', 'to', 'old', 'age', 'is', 'being', 'reshaped', 'into', 'a', 'rectangle', '.', 'And', 'now', ',', 'if', 'you', \"'re\", 'the', 'kind', 'of', 'person', 'who', 'can', 'get', 'chills', 'from', 'population', 'statistics', ',', 'these', 'are', 'the', 'ones', 'that', 'should', 'do', 'it', '.', 'Because', 'what', 'that', 'means', 'is', 'that', 'for', 'the', 'first', 'time', 'in', 'the', 'history', 'of', 'the', 'species', ',', 'the', 'majority', 'of', 'babies', 'born', 'in', 'the', 'Developed', 'World', 'are', 'having', 'the', 'opportunity', 'to', 'grow', 'old', '.', 'How', 'did', 'this', 'happen', '?', 'Well', 'we', \"'re\", 'no', 'genetically', 'hardier', 'than', 'our', 'ancestors', 'were', '10,000', 'years', 'ago', '.', 'This', 'increase', 'in', 'life', 'expectancy', 'is', 'the', 'remarkable', 'product', 'of', 'culture', '--', 'the', 'crucible', 'that', 'holds', 'science', 'and', 'technology', 'and', 'wide-scale', 'changes', 'in', 'behavior', 'that', 'improve', 'health', 'and', 'well-being', '.', 'Through', 'cultural', 'changes', ',', 'our', 'ancestors', 'largely', 'eliminated', 'early', 'death', 'so', 'that', 'people', 'can', 'now', 'live', 'out', 'their', 'full', 'lives', '.', 'Now', 'there', 'are', 'problems', 'associated', 'with', 'aging', '--', 'diseases', ',', 'poverty', ',', 'loss', 'of', 'social', 'status', '.', 'It', \"'s\", 'hardly', 'time', 'to', 'rest', 'on', 'our', 'laurels', '.', 'But', 'the', 'more', 'we', 'learn', 'about', 'aging', ',', 'the', 'clearer', 'it', 'becomes', 'that', 'a', 'sweeping', 'downward', 'course', 'is', 'grossly', 'inaccurate', '.', 'Aging', 'brings', 'some', 'rather', 'remarkable', 'improvements', '--', 'increased', 'knowledge', ',', 'expertise', '--', 'and', 'emotional', 'aspects', 'of', 'life', 'improve', '.', 'That', \"'s\", 'right', ',', 'older', 'people', 'are', 'happy', '.', 'They', \"'re\", 'happier', 'than', 'middle-aged', 'people', ',', 'and', 'younger', 'people', 'certainly', '.', 'Study', 'after', 'study', 'is', 'coming', 'to', 'the', 'same', 'conclusion', '.', 'The', 'CDC', 'recently', 'conducted', 'a', 'survey', 'where', 'they', 'asked', 'respondents', 'simply', 'to', 'tell', 'them', 'whether', 'they', 'experienced', 'significant', 'psychological', 'distress', 'in', 'the', 'previous', 'week', '.', 'And', 'fewer', 'older', 'people', 'answered', 'affirmatively', 'to', 'that', 'question', 'than', 'middle-aged', 'people', ',', 'and', 'younger', 'people', 'as', 'well', '.', 'And', 'a', 'recent', 'Gallup', 'poll', 'asked', 'participants', 'how', 'much', 'stress', 'and', 'worry', 'and', 'anger', 'they', 'had', 'experienced', 'the', 'previous', 'day', '.', 'And', 'stress', ',', 'worry', ',', 'anger', 'all', 'decrease', 'with', 'age', '.', 'Now', 'social', 'scientists', 'call', 'this', 'the', 'paradox', 'of', 'aging', '.', 'After', 'all', ',', 'aging', 'is', 'not', 'a', 'piece', 'of', 'cake', '.', 'So', 'we', \"'ve\", 'asked', 'all', 'sorts', 'of', 'questions', 'to', 'see', 'if', 'we', 'could', 'undo', 'this', 'finding', '.', 'We', \"'ve\", 'asked', 'whether', 'it', 'may', 'be', 'that', 'the', 'current', 'generations', 'of', 'older', 'people', 'are', 'and', 'always', 'have', 'been', 'the', 'greatest', 'generations', '.', 'That', 'is', 'that', 'younger', 'people', 'today', 'may', 'not', 'typically', 'experience', 'these', 'improvements', 'as', 'they', 'grow', 'older', '.', 'We', \"'ve\", 'asked', ',', 'well', 'maybe', 'older', 'people', 'are', 'just', 'trying', 'to', 'put', 'a', 'positive', 'spin', 'on', 'an', 'otherwise', 'depressing', 'existence', '.', '(', 'Laughter', ')', 'But', 'the', 'more', 'we', \"'ve\", 'tried', 'to', 'disavow', 'this', 'finding', ',', 'the', 'more', 'evidence', 'we', 'find', 'to', 'support', 'it', '.', 'Years', 'ago', ',', 'my', 'colleagues', 'and', 'I', 'embarked', 'on', 'a', 'study', 'where', 'we', 'followed', 'the', 'same', 'group', 'of', 'people', 'over', 'a', '10-year', 'period', '.', 'Originally', 'the', 'sample', 'was', 'aged', '18', 'to', '94', '.', 'And', 'we', 'studied', 'whether', 'and', 'how', 'their', 'emotional', 'experiences', 'changed', 'as', 'they', 'grew', 'older', '.', 'Our', 'participants', 'would', 'carry', 'electronic', 'pagers', 'for', 'a', 'week', 'at', 'a', 'time', ',', 'and', 'we', \"'d\", 'page', 'them', 'throughout', 'the', 'day', 'and', 'evenings', 'at', 'random', 'times', '.', 'And', 'every', 'time', 'we', 'paged', 'them', 'we', \"'d\", 'ask', 'them', 'to', 'answer', 'several', 'questions', '--', 'On', 'a', 'one', 'to', 'seven', 'scale', ',', 'how', 'happy', 'are', 'you', 'right', 'now', '?', 'How', 'sad', 'are', 'you', 'right', 'now', '?', 'How', 'frustrated', 'are', 'you', 'right', 'now', '?', '--', 'so', 'that', 'we', 'could', 'get', 'a', 'sense', 'of', 'the', 'kinds', 'of', 'emotions', 'and', 'feelings', 'they', 'were', 'having', 'in', 'their', 'day-to-day', 'lives', '.', 'And', 'using', 'this', 'intense', 'study', 'of', 'individuals', ',', 'we', 'find', 'that', 'it', \"'s\", 'not', 'one', 'particular', 'generation', 'that', \"'s\", 'doing', 'better', 'than', 'the', 'others', ',', 'but', 'the', 'same', 'individuals', 'over', 'time', 'come', 'to', 'report', 'relatively', 'greater', 'positive', 'experience', '.', 'Now', 'you', 'see', 'this', 'slight', 'downturn', 'at', 'very', 'advanced', 'ages', '.', 'And', 'there', 'is', 'a', 'slight', 'downturn', '.', 'But', 'at', 'no', 'point', 'does', 'it', 'return', 'to', 'the', 'levels', 'we', 'see', 'in', 'early', 'adulthood', '.', 'Now', 'it', \"'s\", 'really', 'too', 'simplistic', 'to', 'say', 'that', 'older', 'people', 'are', '``', 'happy', '.', \"''\", 'In', 'our', 'study', ',', 'they', 'are', 'more', 'positive', ',', 'but', 'they', \"'re\", 'also', 'more', 'likely', 'than', 'younger', 'people', 'to', 'experience', 'mixed', 'emotions', '--', 'sadness', 'at', 'the', 'same', 'time', 'you', 'experience', 'happiness', ';', 'you', 'know', ',', 'that', 'tear', 'in', 'the', 'eye', 'when', 'you', \"'re\", 'smiling', 'at', 'a', 'friend', '.', 'And', 'other', 'research', 'has', 'shown', 'that', 'older', 'people', 'seem', 'to', 'engage', 'with', 'sadness', 'more', 'comfortably', '.', 'They', \"'re\", 'more', 'accepting', 'of', 'sadness', 'than', 'younger', 'people', 'are', '.', 'And', 'we', 'suspect', 'that', 'this', 'may', 'help', 'to', 'explain', 'why', 'older', 'people', 'are', 'better', 'than', 'younger', 'people', 'at', 'solving', 'hotly-charged', 'emotional', 'conflicts', 'and', 'debates', '.', 'Older', 'people', 'can', 'view', 'injustice', 'with', 'compassion', ',', 'but', 'not', 'despair', '.', 'And', 'all', 'things', 'being', 'equal', ',', 'older', 'people', 'direct', 'their', 'cognitive', 'resources', ',', 'like', 'attention', 'and', 'memory', ',', 'to', 'positive', 'information', 'more', 'than', 'negative', '.', 'If', 'we', 'show', 'older', ',', 'middle-aged', ',', 'younger', 'people', 'images', ',', 'like', 'the', 'ones', 'you', 'see', 'on', 'the', 'screen', ',', 'and', 'we', 'later', 'ask', 'them', 'to', 'recall', 'all', 'the', 'images', 'that', 'they', 'can', ',', 'older', 'people', ',', 'but', 'not', 'younger', 'people', ',', 'remember', 'more', 'positive', 'images', 'than', 'negative', 'images', '.', 'We', \"'ve\", 'asked', 'older', 'and', 'younger', 'people', 'to', 'view', 'faces', 'in', 'laboratory', 'studies', ',', 'some', 'frowning', ',', 'some', 'smiling', '.', 'Older', 'people', 'look', 'toward', 'the', 'smiling', 'faces', 'and', 'away', 'from', 'the', 'frowning', ',', 'angry', 'faces', '.', 'In', 'day-to-day', 'life', ',', 'this', 'translates', 'into', 'greater', 'enjoyment', 'and', 'satisfaction', '.', 'But', 'as', 'social', 'scientists', ',', 'we', 'continue', 'to', 'ask', 'about', 'possible', 'alternatives', '.', 'We', \"'ve\", 'said', ',', 'well', 'maybe', 'older', 'people', 'report', 'more', 'positive', 'emotions', 'because', 'they', \"'re\", 'cognitively', 'impaired', '.', '(', 'Laughter', ')', 'We', \"'ve\", 'said', ',', 'could', 'it', 'be', 'that', 'positive', 'emotions', 'are', 'simply', 'easier', 'to', 'process', 'than', 'negative', 'emotions', ',', 'and', 'so', 'you', 'switch', 'to', 'the', 'positive', 'emotions', '?', 'Maybe', 'our', 'neural', 'centers', 'in', 'our', 'brain', 'are', 'degraded', 'such', 'that', 'we', \"'re\", 'unable', 'to', 'process', 'negative', 'emotions', 'anymore', '.', 'But', 'that', \"'s\", 'not', 'the', 'case', '.', 'The', 'most', 'mentally', 'sharp', 'older', 'adults', 'are', 'the', 'ones', 'who', 'show', 'this', 'positivity', 'effect', 'the', 'most', '.', 'And', 'under', 'conditions', 'where', 'it', 'really', 'matters', ',', 'older', 'people', 'do', 'process', 'the', 'negative', 'information', 'just', 'as', 'well', 'as', 'the', 'positive', 'information', '.', 'So', 'how', 'can', 'this', 'be', '?', 'Well', 'in', 'our', 'research', ',', 'we', \"'ve\", 'found', 'that', 'these', 'changes', 'are', 'grounded', 'fundamentally', 'in', 'the', 'uniquely', 'human', 'ability', 'to', 'monitor', 'time', '--', 'not', 'just', 'clock', 'time', 'and', 'calendar', 'time', ',', 'but', 'lifetime', '.', 'And', 'if', 'there', \"'s\", 'a', 'paradox', 'of', 'aging', ',', 'it', \"'s\", 'that', 'recognizing', 'that', 'we', 'wo', \"n't\", 'live', 'forever', 'changes', 'our', 'perspective', 'on', 'life', 'in', 'positive', 'ways', '.', 'When', 'time', 'horizons', 'are', 'long', 'and', 'nebulous', ',', 'as', 'they', 'typically', 'are', 'in', 'youth', ',', 'people', 'are', 'constantly', 'preparing', ',', 'trying', 'to', 'soak', 'up', 'all', 'the', 'information', 'they', 'possibly', 'can', ',', 'taking', 'risks', ',', 'exploring', '.', 'We', 'might', 'spend', 'time', 'with', 'people', 'we', 'do', \"n't\", 'even', 'like', 'because', 'it', \"'s\", 'somehow', 'interesting', '.', 'We', 'might', 'learn', 'something', 'unexpected', '.', '(', 'Laughter', ')', 'We', 'go', 'on', 'blind', 'dates', '.', '(', 'Laughter', ')', 'You', 'know', ',', 'after', 'all', ',', 'if', 'it', 'does', \"n't\", 'work', 'out', ',', 'there', \"'s\", 'always', 'tomorrow', '.', 'People', 'over', '50', 'do', \"n't\", 'go', 'on', 'blind', 'dates', '.', '(', 'Laughter', ')', 'As', 'we', 'age', ',', 'our', 'time', 'horizons', 'grow', 'shorter', 'and', 'our', 'goals', 'change', '.', 'When', 'we', 'recognize', 'that', 'we', 'do', \"n't\", 'have', 'all', 'the', 'time', 'in', 'the', 'world', ',', 'we', 'see', 'our', 'priorities', 'most', 'clearly', '.', 'We', 'take', 'less', 'notice', 'of', 'trivial', 'matters', '.', 'We', 'savor', 'life', '.', 'We', \"'re\", 'more', 'appreciative', ',', 'more', 'open', 'to', 'reconciliation', '.', 'We', 'invest', 'in', 'more', 'emotionally', 'important', 'parts', 'of', 'life', ',', 'and', 'life', 'gets', 'better', ',', 'so', 'we', \"'re\", 'happier', 'day-to-day', '.', 'But', 'that', 'same', 'shift', 'in', 'perspective', 'leads', 'us', 'to', 'have', 'less', 'tolerance', 'than', 'ever', 'for', 'injustice', '.', 'By', '2015', ',', 'there', 'will', 'be', 'more', 'people', 'in', 'the', 'United', 'States', 'over', 'the', 'age', 'of', '60', 'than', 'under', '15', '.', 'What', 'will', 'happen', 'to', 'societies', 'that', 'are', 'top-heavy', 'with', 'older', 'people', '?', 'The', 'numbers', 'wo', \"n't\", 'determine', 'the', 'outcome', '.', 'Culture', 'will', '.', 'If', 'we', 'invest', 'in', 'science', 'and', 'technology', 'and', 'find', 'solutions', 'for', 'the', 'real', 'problems', 'that', 'older', 'people', 'face', 'and', 'we', 'capitalize', 'on', 'the', 'very', 'real', 'strengths', 'of', 'older', 'people', ',', 'then', 'added', 'years', 'of', 'life', 'can', 'dramatically', 'improve', 'quality', 'of', 'life', 'at', 'all', 'ages', '.', 'Societies', 'with', 'millions', 'of', 'talented', ',', 'emotionally', 'stable', 'citizens', 'who', 'are', 'healthier', 'and', 'better', 'educated', 'than', 'any', 'generations', 'before', 'them', ',', 'armed', 'with', 'knowledge', 'about', 'the', 'practical', 'matters', 'of', 'life', 'and', 'motivated', 'to', 'solve', 'the', 'big', 'issues', 'can', 'be', 'better', 'societies', 'than', 'we', 'have', 'ever', 'known', '.', 'My', 'father', ',', 'who', 'is', '92', ',', 'likes', 'to', 'say', ',', '``', 'Let', \"'s\", 'stop', 'talking', 'only', 'about', 'how', 'to', 'save', 'the', 'old', 'folks', 'and', 'start', 'talking', 'about', 'how', 'to', 'get', 'them', 'to', 'save', 'us', 'all', '.', \"''\", 'Thank', 'you', '.', '(', 'Applause', ')']\n",
            "1701\n"
          ]
        }
      ]
    },
    {
      "cell_type": "code",
      "metadata": {
        "id": "TnR08OarO1A1",
        "colab": {
          "base_uri": "https://localhost:8080/"
        },
        "outputId": "a612e873-cf07-4024-abc3-85e9ba5f0520"
      },
      "source": [
        "from nltk.tokenize import sent_tokenize\n",
        "dataset = wordlists.raw('2011pos Older people are happier.txt')\n",
        "print(sent_tokenize(dataset))\n",
        "print(len(sent_tokenize(dataset)))\n"
      ],
      "execution_count": null,
      "outputs": [
        {
          "output_type": "stream",
          "name": "stdout",
          "text": [
            "['\\nPeople are living longer and societies are getting grayer.', 'You hear about it all the time.', 'You read about it in your newspapers.', 'You hear about it on your television sets.', \"Sometimes I'm concerned that we hear about it so much that we've come to accept longer lives with a kind of a complacency, even ease.\", 'But make no mistake, longer lives can and, I believe, will improve quality of life at all ages.', 'Now to put this in perspective, let me just zoom out for a minute.', 'More years were added to average life expectancy in the 20th century than all years added across all prior millennia of human evolution combined.', \"In the blink of an eye, we nearly doubled the length of time that we're living.\", \"So if you ever feel like you don't have this aging thing quite pegged, don't kick yourself.\", \"It's brand new.\", 'And because fertility rates fell across that very same period that life expectancy was going up, that pyramid that has always represented the distribution of age in the population, with many young ones at the bottom winnowed to a tiny peak of older people who make it and survive to old age is being reshaped into a rectangle.', \"And now, if you're the kind of person who can get chills from population statistics, these are the ones that should do it.\", 'Because what that means is that for the first time in the history of the species, the majority of babies born in the Developed World are having the opportunity to grow old.', 'How did this happen?', \"Well we're no genetically hardier than our ancestors were 10,000 years ago.\", 'This increase in life expectancy is the remarkable product of culture -- the crucible that holds science and technology and wide-scale changes in behavior that improve health and well-being.', 'Through cultural changes, our ancestors largely eliminated early death so that people can now live out their full lives.', 'Now there are problems associated with aging -- diseases, poverty, loss of social status.', \"It's hardly time to rest on our laurels.\", 'But the more we learn about aging, the clearer it becomes that a sweeping downward course is grossly inaccurate.', 'Aging brings some rather remarkable improvements -- increased knowledge, expertise -- and emotional aspects of life improve.', \"That's right, older people are happy.\", \"They're happier than middle-aged people, and younger people certainly.\", 'Study after study is coming to the same conclusion.', 'The CDC recently conducted a survey where they asked respondents simply to tell them whether they experienced significant psychological distress in the previous week.', 'And fewer older people answered affirmatively to that question than middle-aged people, and younger people as well.', 'And a recent Gallup poll asked participants how much stress and worry and anger they had experienced the previous day.', 'And stress, worry, anger all decrease with age.', 'Now social scientists call this the paradox of aging.', 'After all, aging is not a piece of cake.', \"So we've asked all sorts of questions to see if we could undo this finding.\", \"We've asked whether it may be that the current generations of older people are and always have been the greatest generations.\", 'That is that younger people today may not typically experience these improvements as they grow older.', \"We've asked, well maybe older people are just trying to put a positive spin on an otherwise depressing existence.\", \"(Laughter) But the more we've tried to disavow this finding, the more evidence we find to support it.\", 'Years ago, my colleagues and I embarked on a study where we followed the same group of people over a 10-year period.', 'Originally the sample was aged 18 to 94.', 'And we studied whether and how their emotional experiences changed as they grew older.', \"Our participants would carry electronic pagers for a week at a time, and we'd page them throughout the day and evenings at random times.\", \"And every time we paged them we'd ask them to answer several questions -- On a one to seven scale, how happy are you right now?\", 'How sad are you right now?', 'How frustrated are you right now?', '-- so that we could get a sense of the kinds of emotions and feelings they were having in their day-to-day lives.', \"And using this intense study of individuals, we find that it's not one particular generation that's doing better than the others, but the same individuals over time come to report relatively greater positive experience.\", 'Now you see this slight downturn at very advanced ages.', 'And there is a slight downturn.', 'But at no point does it return to the levels we see in early adulthood.', 'Now it\\'s really too simplistic to say that older people are \"happy.\"', \"In our study, they are more positive, but they're also more likely than younger people to experience mixed emotions -- sadness at the same time you experience happiness; you know, that tear in the eye when you're smiling at a friend.\", 'And other research has shown that older people seem to engage with sadness more comfortably.', \"They're more accepting of sadness than younger people are.\", 'And we suspect that this may help to explain why older people are better than younger people at solving hotly-charged emotional conflicts and debates.', 'Older people can view injustice with compassion, but not despair.', 'And all things being equal, older people direct their cognitive resources, like attention and memory, to positive information more than negative.', 'If we show older, middle-aged, younger people images, like the ones you see on the screen, and we later ask them to recall all the images that they can, older people, but not younger people, remember more positive images than negative images.', \"We've asked older and younger people to view faces in laboratory studies, some frowning, some smiling.\", 'Older people look toward the smiling faces and away from the frowning, angry faces.', 'In day-to-day life, this translates into greater enjoyment and satisfaction.', 'But as social scientists, we continue to ask about possible alternatives.', \"We've said, well maybe older people report more positive emotions because they're cognitively impaired.\", \"(Laughter) We've said, could it be that positive emotions are simply easier to process than negative emotions, and so you switch to the positive emotions?\", \"Maybe our neural centers in our brain are degraded such that we're unable to process negative emotions anymore.\", \"But that's not the case.\", 'The most mentally sharp older adults are the ones who show this positivity effect the most.', 'And under conditions where it really matters, older people do process the negative information just as well as the positive information.', 'So how can this be?', \"Well in our research, we've found that these changes are grounded fundamentally in the uniquely human ability to monitor time -- not just clock time and calendar time, but lifetime.\", \"And if there's a paradox of aging, it's that recognizing that we won't live forever changes our perspective on life in positive ways.\", 'When time horizons are long and nebulous, as they typically are in youth, people are constantly preparing, trying to soak up all the information they possibly can, taking risks, exploring.', \"We might spend time with people we don't even like because it's somehow interesting.\", 'We might learn something unexpected.', '(Laughter) We go on blind dates.', \"(Laughter) You know, after all, if it doesn't work out, there's always tomorrow.\", \"People over 50 don't go on blind dates.\", '(Laughter) \\n\\nAs we age, our time horizons grow shorter and our goals change.', \"When we recognize that we don't have all the time in the world, we see our priorities most clearly.\", 'We take less notice of trivial matters.', 'We savor life.', \"We're more appreciative, more open to reconciliation.\", \"We invest in more emotionally important parts of life, and life gets better, so we're happier day-to-day.\", 'But that same shift in perspective leads us to have less tolerance than ever for injustice.', 'By 2015, there will be more people in the United States over the age of 60 than under 15.', 'What will happen to societies that are top-heavy with older people?', \"The numbers won't determine the outcome.\", 'Culture will.', 'If we invest in science and technology and find solutions for the real problems that older people face and we capitalize on the very real strengths of older people, then added years of life can dramatically improve quality of life at all ages.', 'Societies with millions of talented, emotionally stable citizens who are healthier and better educated than any generations before them, armed with knowledge about the practical matters of life and motivated to solve the big issues can be better societies than we have ever known.', 'My father, who is 92, likes to say, \"Let\\'s stop talking only about how to save the old folks and start talking about how to get them to save us all.\"', 'Thank you.', '(Applause)']\n",
            "91\n"
          ]
        }
      ]
    },
    {
      "cell_type": "code",
      "metadata": {
        "id": "SE0y8cdMKt5f",
        "colab": {
          "base_uri": "https://localhost:8080/"
        },
        "outputId": "a639e84b-f221-41b5-ca5e-87c7faff327d"
      },
      "source": [
        "text = wordlists.words('2011pos Older people are happier.txt')\n",
        "# 相異字詞\n",
        "set(text)\n",
        "\n",
        "# 相異字詞排序\n",
        "tempText = sorted(set(text))\n",
        "print(tempText)\n",
        "\n",
        "# 定義詞彙多樣性的函數\n",
        "def difference(text):\n",
        "    result = len(set(text)) / len(text)\n",
        "    return result\n",
        "\n",
        "print(difference(text))"
      ],
      "execution_count": null,
      "outputs": [
        {
          "output_type": "stream",
          "name": "stdout",
          "text": [
            "['\"', \"'\", '(', ')', ',', '-', '--', '.', '.\"', '000', '10', '15', '18', '2015', '20th', '50', '60', '92', '94', ';', '?', 'After', 'Aging', 'And', 'Applause', 'As', 'Because', 'But', 'By', 'CDC', 'Culture', 'Developed', 'Gallup', 'How', 'I', 'If', 'In', 'It', 'Laughter', 'Let', 'Maybe', 'More', 'My', 'Now', 'Older', 'On', 'Originally', 'Our', 'People', 'So', 'Societies', 'Sometimes', 'States', 'Study', 'Thank', 'That', 'The', 'They', 'This', 'Through', 'United', 'We', 'Well', 'What', 'When', 'World', 'Years', 'You', 'a', 'ability', 'about', 'accept', 'accepting', 'across', 'added', 'adulthood', 'adults', 'advanced', 'affirmatively', 'after', 'age', 'aged', 'ages', 'aging', 'ago', 'all', 'also', 'alternatives', 'always', 'an', 'ancestors', 'and', 'anger', 'angry', 'answer', 'answered', 'any', 'anymore', 'appreciative', 'are', 'armed', 'as', 'ask', 'asked', 'aspects', 'associated', 'at', 'attention', 'average', 'away', 'babies', 'be', 'because', 'becomes', 'been', 'before', 'behavior', 'being', 'believe', 'better', 'big', 'blind', 'blink', 'born', 'bottom', 'brain', 'brand', 'brings', 'but', 'cake', 'calendar', 'call', 'can', 'capitalize', 'carry', 'case', 'centers', 'century', 'certainly', 'change', 'changed', 'changes', 'charged', 'chills', 'citizens', 'clearer', 'clearly', 'clock', 'cognitive', 'cognitively', 'colleagues', 'combined', 'come', 'comfortably', 'coming', 'compassion', 'complacency', 'concerned', 'conclusion', 'conditions', 'conducted', 'conflicts', 'constantly', 'continue', 'could', 'course', 'crucible', 'cultural', 'culture', 'current', 'd', 'dates', 'day', 'death', 'debates', 'decrease', 'degraded', 'depressing', 'despair', 'determine', 'did', 'direct', 'disavow', 'diseases', 'distress', 'distribution', 'do', 'does', 'doesn', 'doing', 'don', 'doubled', 'downturn', 'downward', 'dramatically', 'early', 'ease', 'easier', 'educated', 'effect', 'electronic', 'eliminated', 'embarked', 'emotional', 'emotionally', 'emotions', 'engage', 'enjoyment', 'equal', 'even', 'evenings', 'ever', 'every', 'evidence', 'evolution', 'existence', 'expectancy', 'experience', 'experienced', 'experiences', 'expertise', 'explain', 'exploring', 'eye', 'face', 'faces', 'father', 'feel', 'feelings', 'fell', 'fertility', 'fewer', 'find', 'finding', 'first', 'folks', 'followed', 'for', 'forever', 'found', 'friend', 'from', 'frowning', 'frustrated', 'full', 'fundamentally', 'generation', 'generations', 'genetically', 'get', 'gets', 'getting', 'go', 'goals', 'going', 'grayer', 'greater', 'greatest', 'grew', 'grossly', 'grounded', 'group', 'grow', 'had', 'happen', 'happier', 'happiness', 'happy', 'hardier', 'hardly', 'has', 'have', 'having', 'health', 'healthier', 'hear', 'heavy', 'help', 'history', 'holds', 'horizons', 'hotly', 'how', 'human', 'if', 'images', 'impaired', 'important', 'improve', 'improvements', 'in', 'inaccurate', 'increase', 'increased', 'individuals', 'information', 'injustice', 'intense', 'interesting', 'into', 'invest', 'is', 'issues', 'it', 'just', 'kick', 'kind', 'kinds', 'know', 'knowledge', 'known', 'laboratory', 'largely', 'later', 'laurels', 'leads', 'learn', 'length', 'less', 'let', 'levels', 'life', 'lifetime', 'like', 'likely', 'likes', 'live', 'lives', 'living', 'long', 'longer', 'look', 'loss', 'm', 'majority', 'make', 'many', 'matters', 'may', 'maybe', 'me', 'means', 'memory', 'mentally', 'middle', 'might', 'millennia', 'millions', 'minute', 'mistake', 'mixed', 'monitor', 'more', 'most', 'motivated', 'much', 'my', 'nearly', 'nebulous', 'negative', 'neural', 'new', 'newspapers', 'no', 'not', 'notice', 'now', 'numbers', 'of', 'old', 'older', 'on', 'one', 'ones', 'only', 'open', 'opportunity', 'other', 'others', 'otherwise', 'our', 'out', 'outcome', 'over', 'page', 'paged', 'pagers', 'paradox', 'participants', 'particular', 'parts', 'peak', 'pegged', 'people', 'period', 'person', 'perspective', 'piece', 'point', 'poll', 'population', 'positive', 'positivity', 'possible', 'possibly', 'poverty', 'practical', 'preparing', 'previous', 'prior', 'priorities', 'problems', 'process', 'product', 'psychological', 'put', 'pyramid', 'quality', 'question', 'questions', 'quite', 'random', 'rates', 'rather', 're', 'read', 'real', 'really', 'recall', 'recent', 'recently', 'recognize', 'recognizing', 'reconciliation', 'rectangle', 'relatively', 'remarkable', 'remember', 'report', 'represented', 'research', 'reshaped', 'resources', 'respondents', 'rest', 'return', 'right', 'risks', 's', 'sad', 'sadness', 'said', 'same', 'sample', 'satisfaction', 'save', 'savor', 'say', 'scale', 'science', 'scientists', 'screen', 'see', 'seem', 'sense', 'sets', 'seven', 'several', 'sharp', 'shift', 'shorter', 'should', 'show', 'shown', 'significant', 'simplistic', 'simply', 'slight', 'smiling', 'so', 'soak', 'social', 'societies', 'solutions', 'solve', 'solving', 'some', 'somehow', 'something', 'sorts', 'species', 'spend', 'spin', 'stable', 'start', 'statistics', 'status', 'stop', 'strengths', 'stress', 'studied', 'studies', 'study', 'such', 'support', 'survey', 'survive', 'suspect', 'sweeping', 'switch', 't', 'take', 'taking', 'talented', 'talking', 'tear', 'technology', 'television', 'tell', 'than', 'that', 'the', 'their', 'them', 'then', 'there', 'these', 'they', 'thing', 'things', 'this', 'throughout', 'time', 'times', 'tiny', 'to', 'today', 'tolerance', 'tomorrow', 'too', 'top', 'toward', 'translates', 'tried', 'trivial', 'trying', 'typically', 'unable', 'under', 'undo', 'unexpected', 'uniquely', 'up', 'us', 'using', 've', 'very', 'view', 'was', 'ways', 'we', 'week', 'well', 'were', 'what', 'when', 'where', 'whether', 'who', 'why', 'wide', 'will', 'winnowed', 'with', 'won', 'work', 'world', 'worry', 'would', 'year', 'years', 'you', 'young', 'younger', 'your', 'yourself', 'youth', 'zoom']\n",
            "0.33182844243792325\n"
          ]
        }
      ]
    },
    {
      "cell_type": "code",
      "metadata": {
        "id": "ZSrQst0wNUGU",
        "colab": {
          "base_uri": "https://localhost:8080/",
          "height": 472
        },
        "outputId": "334391c6-7168-4b2c-8fa4-94da87af19ac"
      },
      "source": [
        "import nltk\n",
        "testText = wordlists.words('2011pos Older people are happier.txt')\n",
        "single = nltk.text.Text(testText)\n",
        "\n",
        "findList = [\"a\",\"the\", \"can\", \"happier\", \"people\"]\n",
        "single.dispersion_plot(findList)"
      ],
      "execution_count": null,
      "outputs": [
        {
          "output_type": "display_data",
          "data": {
            "text/plain": [
              "<Figure size 640x480 with 1 Axes>"
            ],
            "image/png": "[encoded data removed]"
          },
          "metadata": {}
        }
      ]
    },
    {
      "cell_type": "code",
      "metadata": {
        "id": "U9_bnlTydR1O",
        "colab": {
          "base_uri": "https://localhost:8080/",
          "height": 105
        },
        "outputId": "2052e8f8-d4b7-4ab9-f8d5-de151b6d1c4b"
      },
      "source": [
        "# 使用 ConditionalFreqDist() 在多個文本中計算特定字詞個數\n",
        "\n",
        "books = wordlists.fileids()\n",
        "\n",
        "cfd = nltk.ConditionalFreqDist((fileid, word)\n",
        "    for fileid in books\n",
        "    for word in wordlists.words(fileid)\n",
        "    )\n",
        "\n",
        "findList = ['can', 'could', 'may', 'might', 'must', 'will', 'shall', 'should']\n",
        "cfd.tabulate(conditions=books, samples=findList)"
      ],
      "execution_count": null,
      "outputs": [
        {
          "output_type": "stream",
          "text": [
            "                                                                      can  could    may  might   must   will  shall should \n",
            "                              2011pos Older people are happier.txt      9      3      3      2      0      4      0      1 \n",
            "2012neg What doctors don't know about the drugs they prescribe.txt      6      3      0      2      1      7      0      0 \n",
            "         2016neu Asking for help is a strength, not a weakness.txt     23      4      0      0      4      4      0      0 \n"
          ],
          "name": "stdout"
        }
      ]
    },
    {
      "cell_type": "code",
      "source": [
        "#練習：畫詞彙分布圖和tabulate"
      ],
      "metadata": {
        "id": "q5AXz8nkJmJj"
      },
      "execution_count": null,
      "outputs": []
    },
    {
      "cell_type": "code",
      "source": [
        "books = wordlists.fileids()\n",
        "print(books)"
      ],
      "metadata": {
        "colab": {
          "base_uri": "https://localhost:8080/"
        },
        "id": "qWQ63f13mkwn",
        "outputId": "6743d71c-a8f1-40a0-8934-cf31c6f94c8a"
      },
      "execution_count": null,
      "outputs": [
        {
          "output_type": "stream",
          "name": "stdout",
          "text": [
            "['2011pos Older people are happier.txt', \"2012neg What doctors don't know about the drugs they prescribe.txt\", '2016neu Asking for help is a strength, not a weakness.txt']\n"
          ]
        }
      ]
    },
    {
      "cell_type": "code",
      "metadata": {
        "id": "UqqTZUNMJTov",
        "colab": {
          "base_uri": "https://localhost:8080/",
          "height": 514
        },
        "outputId": "fcd25af3-d647-41c3-8284-1688ed748344"
      },
      "source": [
        "cfd = nltk.ConditionalFreqDist(\n",
        "    (target, fileid[:7]) # [:7]取至前七位字元\n",
        "    for fileid in wordlists.fileids() # 取出各個文檔\n",
        "    for w in wordlists.words(fileid)  # 所有文本的字詞\n",
        "    for target in ['happy', 'positive', 'negative'] # 篩選字詞\n",
        "    if w.lower() == target) # w.lower().startswith(target)  # 字詞 happier也能納入計算\n",
        "cfd.plot()"
      ],
      "execution_count": null,
      "outputs": [
        {
          "output_type": "execute_result",
          "data": {
            "text/plain": [
              "<Axes: xlabel='Samples', ylabel='Counts'>"
            ]
          },
          "metadata": {},
          "execution_count": 52
        },
        {
          "output_type": "display_data",
          "data": {
            "text/plain": [
              "<Figure size 640x480 with 1 Axes>"
            ],
            "image/png": "[encoded data removed]"
          },
          "metadata": {}
        }
      ]
    },
    {
      "cell_type": "code",
      "source": [
        "#練習：畫ConditionalFreqDist"
      ],
      "metadata": {
        "id": "qYyVak49MR2r"
      },
      "execution_count": null,
      "outputs": []
    },
    {
      "cell_type": "code",
      "source": [
        "from wordcloud import STOPWORDS\n",
        "print(STOPWORDS)"
      ],
      "metadata": {
        "colab": {
          "base_uri": "https://localhost:8080/"
        },
        "id": "ba4siySLsX99",
        "outputId": "036735ed-a478-4a54-e05f-cfa9a38f5f6a"
      },
      "execution_count": null,
      "outputs": [
        {
          "output_type": "stream",
          "name": "stdout",
          "text": [
            "{'both', 'very', \"she'd\", 'such', 'too', 'yours', 'has', 'each', 'below', \"couldn't\", \"i'll\", 'ours', 'how', 'there', 'would', 'should', 'here', 'ever', \"shouldn't\", 'him', 'were', \"he's\", \"you're\", 'this', \"i'd\", 'few', 'they', 'on', 'any', \"we've\", 'a', 'having', 'herself', 'just', 'not', 'themselves', 'does', 'she', 'these', 'more', \"don't\", 'hence', \"that's\", 'yourselves', 'off', \"didn't\", 'can', \"you'll\", 'whom', 'in', 'who', 'before', \"he'll\", \"can't\", 'them', 'had', 'be', 'do', \"how's\", 'that', 'their', 'myself', 'being', \"here's\", \"hadn't\", \"aren't\", 'could', \"i've\", 'at', \"she'll\", \"where's\", 'also', 'own', 'www', 'your', 'during', 'over', 'if', \"she's\", 'above', \"there's\", 'like', 'and', 'are', \"isn't\", 'once', 'why', 'http', \"let's\", 'her', 'because', 'was', 'itself', 'yourself', 'against', \"what's\", \"why's\", 'from', 'out', 'have', 'is', 'or', 'down', 'otherwise', 'while', 'other', 'our', 'you', 'again', 'ought', 'however', 'doing', \"they'll\", 'it', 'else', 'hers', 'with', \"they'd\", 'by', 'then', 'further', 'been', 'between', 'its', \"they've\", 'i', 'himself', 'am', \"mustn't\", 'me', 'theirs', 'of', 'which', \"won't\", 'under', 'but', 'to', 'where', 'shall', \"i'm\", 'some', 'until', 'about', \"when's\", 'those', 'cannot', \"it's\", 'all', 'for', 'therefore', \"we'd\", 'get', 'k', 'through', 'than', 'ourselves', 'an', 'com', \"he'd\", 'only', 'when', 'into', 'the', \"wouldn't\", \"we're\", \"doesn't\", \"who's\", 'his', 'my', 'what', \"we'll\", \"hasn't\", \"you'd\", 'up', \"you've\", \"they're\", 'most', 'as', 'did', 'r', 'same', 'so', 'he', 'since', 'nor', \"shan't\", 'no', \"haven't\", \"wasn't\", \"weren't\", 'we', 'after'}\n"
          ]
        }
      ]
    },
    {
      "cell_type": "code",
      "metadata": {
        "id": "pOQM6QtW4OQG",
        "colab": {
          "base_uri": "https://localhost:8080/",
          "height": 517
        },
        "outputId": "7dab783b-05f3-4c7d-91ff-3aff0b3e0e48"
      },
      "source": [
        "#分析高頻率單字\n",
        "\n",
        "import nltk\n",
        "from wordcloud import STOPWORDS\n",
        "\n",
        "dataset = wordlists.raw('Kara_Kush.txt')\n",
        "\n",
        "tokens = dataset.split(' ') #以空格斷詞\n",
        "clean_tokens = tokens[:]\n",
        "\n",
        "for token in tokens:\n",
        "  if token.lower() in STOPWORDS:\n",
        "    clean_tokens.remove(token)  #若有STOPWORDS,remove掉\n",
        "\n",
        "freq = nltk.FreqDist(clean_tokens)\n",
        "\n",
        "# for key,val in freq.items():\n",
        "#  print (str(key) + ':' + str(val))\n",
        "freq.plot(20,cumulative=False)"
      ],
      "execution_count": null,
      "outputs": [
        {
          "output_type": "execute_result",
          "data": {
            "text/plain": [
              "<Axes: xlabel='Samples', ylabel='Counts'>"
            ]
          },
          "metadata": {},
          "execution_count": 5
        },
        {
          "output_type": "display_data",
          "data": {
            "text/plain": [
              "<Figure size 640x480 with 1 Axes>"
            ],
            "image/png": "[encoded data removed]"
          },
          "metadata": {}
        }
      ]
    }
  ]
}